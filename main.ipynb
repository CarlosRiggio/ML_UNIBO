{
 "cells": [
  {
   "cell_type": "code",
   "execution_count": 74,
   "metadata": {},
   "outputs": [
    {
     "name": "stdout",
     "output_type": "stream",
     "text": [
      "<class 'pandas.core.frame.DataFrame'>\n",
      "RangeIndex: 20640 entries, 0 to 20639\n",
      "Data columns (total 10 columns):\n",
      " #   Column              Non-Null Count  Dtype  \n",
      "---  ------              --------------  -----  \n",
      " 0   longitude           20640 non-null  float64\n",
      " 1   latitude            20640 non-null  float64\n",
      " 2   housing_median_age  20640 non-null  float64\n",
      " 3   total_rooms         20640 non-null  float64\n",
      " 4   total_bedrooms      20433 non-null  float64\n",
      " 5   population          20640 non-null  float64\n",
      " 6   households          20640 non-null  float64\n",
      " 7   median_income       20640 non-null  float64\n",
      " 8   median_house_value  20640 non-null  float64\n",
      " 9   ocean_proximity     20640 non-null  object \n",
      "dtypes: float64(9), object(1)\n",
      "memory usage: 1.6+ MB\n",
      "Index(['longitude', 'latitude', 'housing_median_age', 'total_rooms',\n",
      "       'total_bedrooms', 'population', 'households', 'median_income',\n",
      "       'median_house_value', 'ocean_proximity'],\n",
      "      dtype='object')\n"
     ]
    }
   ],
   "source": [
    "import pandas as pd\n",
    "df = pd.read_csv('housing.csv')\n",
    "df.info()\n",
    "print(df.columns)"
   ]
  },
  {
   "cell_type": "markdown",
   "metadata": {},
   "source": []
  },
  {
   "cell_type": "code",
   "execution_count": 75,
   "metadata": {},
   "outputs": [],
   "source": [
    "# creacion del train y del test\n",
    "\n",
    "from sklearn.model_selection import train_test_split\n",
    "train, test = train_test_split(df, test_size = 0.2, random_state= 22)\n",
    "\n",
    "train.to_csv(\"housing_train.csv\", index = False)\n",
    "test.to_csv(\"housing_test.csv\", index = False)\n"
   ]
  },
  {
   "cell_type": "code",
   "execution_count": 76,
   "metadata": {},
   "outputs": [],
   "source": [
    "# correlación de las variables\n",
    "# df_for_correlation = df.drop(['ocean_proximity'], axis = 1)\n",
    "# # df_for_correlation.info()\n",
    "# correlation =  df_for_correlation.corr()\n",
    "# correlation['median_house_value'].sort_values(ascending=False)\n",
    "# df.corr()\n",
    "\n",
    "#df['median_house_value'].sort_values(ascending= True)\n"
   ]
  },
  {
   "cell_type": "code",
   "execution_count": 77,
   "metadata": {},
   "outputs": [
    {
     "data": {
      "text/html": [
       "<div>\n",
       "<style scoped>\n",
       "    .dataframe tbody tr th:only-of-type {\n",
       "        vertical-align: middle;\n",
       "    }\n",
       "\n",
       "    .dataframe tbody tr th {\n",
       "        vertical-align: top;\n",
       "    }\n",
       "\n",
       "    .dataframe thead th {\n",
       "        text-align: right;\n",
       "    }\n",
       "</style>\n",
       "<table border=\"1\" class=\"dataframe\">\n",
       "  <thead>\n",
       "    <tr style=\"text-align: right;\">\n",
       "      <th></th>\n",
       "      <th>longitude</th>\n",
       "      <th>latitude</th>\n",
       "      <th>housing_median_age</th>\n",
       "      <th>total_rooms</th>\n",
       "      <th>total_bedrooms</th>\n",
       "      <th>population</th>\n",
       "      <th>households</th>\n",
       "      <th>median_income</th>\n",
       "      <th>ocean_proximity</th>\n",
       "    </tr>\n",
       "  </thead>\n",
       "  <tbody>\n",
       "    <tr>\n",
       "      <th>0</th>\n",
       "      <td>-119.72</td>\n",
       "      <td>36.76</td>\n",
       "      <td>23.0</td>\n",
       "      <td>6403.0</td>\n",
       "      <td>NaN</td>\n",
       "      <td>3573.0</td>\n",
       "      <td>1260.0</td>\n",
       "      <td>2.3006</td>\n",
       "      <td>INLAND</td>\n",
       "    </tr>\n",
       "    <tr>\n",
       "      <th>1</th>\n",
       "      <td>-120.79</td>\n",
       "      <td>38.70</td>\n",
       "      <td>13.0</td>\n",
       "      <td>5036.0</td>\n",
       "      <td>1034.0</td>\n",
       "      <td>2243.0</td>\n",
       "      <td>923.0</td>\n",
       "      <td>2.3319</td>\n",
       "      <td>INLAND</td>\n",
       "    </tr>\n",
       "    <tr>\n",
       "      <th>2</th>\n",
       "      <td>-118.20</td>\n",
       "      <td>34.04</td>\n",
       "      <td>18.0</td>\n",
       "      <td>796.0</td>\n",
       "      <td>227.0</td>\n",
       "      <td>547.0</td>\n",
       "      <td>218.0</td>\n",
       "      <td>1.0333</td>\n",
       "      <td>&lt;1H OCEAN</td>\n",
       "    </tr>\n",
       "    <tr>\n",
       "      <th>3</th>\n",
       "      <td>-117.34</td>\n",
       "      <td>33.21</td>\n",
       "      <td>12.0</td>\n",
       "      <td>5963.0</td>\n",
       "      <td>1372.0</td>\n",
       "      <td>3015.0</td>\n",
       "      <td>1124.0</td>\n",
       "      <td>2.7386</td>\n",
       "      <td>NEAR OCEAN</td>\n",
       "    </tr>\n",
       "    <tr>\n",
       "      <th>4</th>\n",
       "      <td>-121.46</td>\n",
       "      <td>38.54</td>\n",
       "      <td>48.0</td>\n",
       "      <td>1001.0</td>\n",
       "      <td>205.0</td>\n",
       "      <td>605.0</td>\n",
       "      <td>175.0</td>\n",
       "      <td>1.8333</td>\n",
       "      <td>INLAND</td>\n",
       "    </tr>\n",
       "  </tbody>\n",
       "</table>\n",
       "</div>"
      ],
      "text/plain": [
       "   longitude  latitude  housing_median_age  total_rooms  total_bedrooms  \\\n",
       "0    -119.72     36.76                23.0       6403.0             NaN   \n",
       "1    -120.79     38.70                13.0       5036.0          1034.0   \n",
       "2    -118.20     34.04                18.0        796.0           227.0   \n",
       "3    -117.34     33.21                12.0       5963.0          1372.0   \n",
       "4    -121.46     38.54                48.0       1001.0           205.0   \n",
       "\n",
       "   population  households  median_income ocean_proximity  \n",
       "0      3573.0      1260.0         2.3006          INLAND  \n",
       "1      2243.0       923.0         2.3319          INLAND  \n",
       "2       547.0       218.0         1.0333       <1H OCEAN  \n",
       "3      3015.0      1124.0         2.7386      NEAR OCEAN  \n",
       "4       605.0       175.0         1.8333          INLAND  "
      ]
     },
     "execution_count": 77,
     "metadata": {},
     "output_type": "execute_result"
    }
   ],
   "source": [
    "#seseparamos características a entrenar del target\n",
    "df_train = pd.read_csv(\"housing_train.csv\")\n",
    "data, labels = df_train.drop(['median_house_value'], axis=1), df_train['median_house_value'].copy()\n",
    "data.head()\n"
   ]
  },
  {
   "cell_type": "markdown",
   "metadata": {},
   "source": [
    "Variables numéricas\n"
   ]
  },
  {
   "cell_type": "code",
   "execution_count": 78,
   "metadata": {},
   "outputs": [
    {
     "name": "stdout",
     "output_type": "stream",
     "text": [
      "Index(['longitude', 'latitude', 'housing_median_age', 'total_rooms',\n",
      "       'total_bedrooms', 'population', 'households', 'median_income',\n",
      "       'ocean_proximity'],\n",
      "      dtype='object')\n"
     ]
    },
    {
     "data": {
      "text/html": [
       "<div>\n",
       "<style scoped>\n",
       "    .dataframe tbody tr th:only-of-type {\n",
       "        vertical-align: middle;\n",
       "    }\n",
       "\n",
       "    .dataframe tbody tr th {\n",
       "        vertical-align: top;\n",
       "    }\n",
       "\n",
       "    .dataframe thead th {\n",
       "        text-align: right;\n",
       "    }\n",
       "</style>\n",
       "<table border=\"1\" class=\"dataframe\">\n",
       "  <thead>\n",
       "    <tr style=\"text-align: right;\">\n",
       "      <th></th>\n",
       "      <th>longitude</th>\n",
       "      <th>latitude</th>\n",
       "      <th>housing_median_age</th>\n",
       "      <th>total_rooms</th>\n",
       "      <th>total_bedrooms</th>\n",
       "      <th>population</th>\n",
       "      <th>households</th>\n",
       "      <th>median_income</th>\n",
       "    </tr>\n",
       "  </thead>\n",
       "  <tbody>\n",
       "    <tr>\n",
       "      <th>0</th>\n",
       "      <td>-119.72</td>\n",
       "      <td>36.76</td>\n",
       "      <td>23.0</td>\n",
       "      <td>6403.0</td>\n",
       "      <td>NaN</td>\n",
       "      <td>3573.0</td>\n",
       "      <td>1260.0</td>\n",
       "      <td>2.3006</td>\n",
       "    </tr>\n",
       "    <tr>\n",
       "      <th>1</th>\n",
       "      <td>-120.79</td>\n",
       "      <td>38.70</td>\n",
       "      <td>13.0</td>\n",
       "      <td>5036.0</td>\n",
       "      <td>1034.0</td>\n",
       "      <td>2243.0</td>\n",
       "      <td>923.0</td>\n",
       "      <td>2.3319</td>\n",
       "    </tr>\n",
       "    <tr>\n",
       "      <th>2</th>\n",
       "      <td>-118.20</td>\n",
       "      <td>34.04</td>\n",
       "      <td>18.0</td>\n",
       "      <td>796.0</td>\n",
       "      <td>227.0</td>\n",
       "      <td>547.0</td>\n",
       "      <td>218.0</td>\n",
       "      <td>1.0333</td>\n",
       "    </tr>\n",
       "    <tr>\n",
       "      <th>3</th>\n",
       "      <td>-117.34</td>\n",
       "      <td>33.21</td>\n",
       "      <td>12.0</td>\n",
       "      <td>5963.0</td>\n",
       "      <td>1372.0</td>\n",
       "      <td>3015.0</td>\n",
       "      <td>1124.0</td>\n",
       "      <td>2.7386</td>\n",
       "    </tr>\n",
       "    <tr>\n",
       "      <th>4</th>\n",
       "      <td>-121.46</td>\n",
       "      <td>38.54</td>\n",
       "      <td>48.0</td>\n",
       "      <td>1001.0</td>\n",
       "      <td>205.0</td>\n",
       "      <td>605.0</td>\n",
       "      <td>175.0</td>\n",
       "      <td>1.8333</td>\n",
       "    </tr>\n",
       "  </tbody>\n",
       "</table>\n",
       "</div>"
      ],
      "text/plain": [
       "   longitude  latitude  housing_median_age  total_rooms  total_bedrooms  \\\n",
       "0    -119.72     36.76                23.0       6403.0             NaN   \n",
       "1    -120.79     38.70                13.0       5036.0          1034.0   \n",
       "2    -118.20     34.04                18.0        796.0           227.0   \n",
       "3    -117.34     33.21                12.0       5963.0          1372.0   \n",
       "4    -121.46     38.54                48.0       1001.0           205.0   \n",
       "\n",
       "   population  households  median_income  \n",
       "0      3573.0      1260.0         2.3006  \n",
       "1      2243.0       923.0         2.3319  \n",
       "2       547.0       218.0         1.0333  \n",
       "3      3015.0      1124.0         2.7386  \n",
       "4       605.0       175.0         1.8333  "
      ]
     },
     "execution_count": 78,
     "metadata": {},
     "output_type": "execute_result"
    }
   ],
   "source": [
    "#nos quedamos con las variables numericas\n",
    "print(data.columns)\n",
    "\n",
    "data_num = data.drop(['ocean_proximity'], axis = 1)\n",
    "data_num.head()"
   ]
  },
  {
   "cell_type": "code",
   "execution_count": 79,
   "metadata": {},
   "outputs": [
    {
     "data": {
      "text/html": [
       "<div>\n",
       "<style scoped>\n",
       "    .dataframe tbody tr th:only-of-type {\n",
       "        vertical-align: middle;\n",
       "    }\n",
       "\n",
       "    .dataframe tbody tr th {\n",
       "        vertical-align: top;\n",
       "    }\n",
       "\n",
       "    .dataframe thead th {\n",
       "        text-align: right;\n",
       "    }\n",
       "</style>\n",
       "<table border=\"1\" class=\"dataframe\">\n",
       "  <thead>\n",
       "    <tr style=\"text-align: right;\">\n",
       "      <th></th>\n",
       "      <th>ocean_proximity</th>\n",
       "    </tr>\n",
       "  </thead>\n",
       "  <tbody>\n",
       "    <tr>\n",
       "      <th>0</th>\n",
       "      <td>INLAND</td>\n",
       "    </tr>\n",
       "    <tr>\n",
       "      <th>1</th>\n",
       "      <td>INLAND</td>\n",
       "    </tr>\n",
       "    <tr>\n",
       "      <th>2</th>\n",
       "      <td>&lt;1H OCEAN</td>\n",
       "    </tr>\n",
       "    <tr>\n",
       "      <th>3</th>\n",
       "      <td>NEAR OCEAN</td>\n",
       "    </tr>\n",
       "    <tr>\n",
       "      <th>4</th>\n",
       "      <td>INLAND</td>\n",
       "    </tr>\n",
       "  </tbody>\n",
       "</table>\n",
       "</div>"
      ],
      "text/plain": [
       "  ocean_proximity\n",
       "0          INLAND\n",
       "1          INLAND\n",
       "2       <1H OCEAN\n",
       "3      NEAR OCEAN\n",
       "4          INLAND"
      ]
     },
     "execution_count": 79,
     "metadata": {},
     "output_type": "execute_result"
    }
   ],
   "source": [
    "#nos quedamos con las no numericas\n",
    "\n",
    "data_no_num = data[['ocean_proximity']]\n",
    "data_no_num.head()"
   ]
  },
  {
   "cell_type": "code",
   "execution_count": 80,
   "metadata": {},
   "outputs": [
    {
     "data": {
      "text/plain": [
       "longitude               0\n",
       "latitude                0\n",
       "housing_median_age      0\n",
       "total_rooms             0\n",
       "total_bedrooms        163\n",
       "population              0\n",
       "households              0\n",
       "median_income           0\n",
       "dtype: int64"
      ]
     },
     "execution_count": 80,
     "metadata": {},
     "output_type": "execute_result"
    }
   ],
   "source": [
    "#ver missing values del data set\n",
    "\n",
    "data_num.isnull().sum()"
   ]
  },
  {
   "cell_type": "code",
   "execution_count": 81,
   "metadata": {},
   "outputs": [
    {
     "data": {
      "text/plain": [
       "array([-118.51  ,   34.26  ,   29.    , 2126.    ,  435.    , 1165.    ,\n",
       "        410.    ,    3.5334])"
      ]
     },
     "execution_count": 81,
     "metadata": {},
     "output_type": "execute_result"
    }
   ],
   "source": [
    "#rellenar missing values con la mediana de los demás\n",
    "\n",
    "from sklearn.impute import SimpleImputer\n",
    "\n",
    "imputer = SimpleImputer(strategy=\"median\")\n",
    "imputer.fit(data_num)\n",
    "imputer.statistics_"
   ]
  },
  {
   "cell_type": "code",
   "execution_count": 82,
   "metadata": {},
   "outputs": [
    {
     "data": {
      "text/plain": [
       "longitude             0\n",
       "latitude              0\n",
       "housing_median_age    0\n",
       "total_rooms           0\n",
       "total_bedrooms        0\n",
       "population            0\n",
       "households            0\n",
       "median_income         0\n",
       "dtype: int64"
      ]
     },
     "execution_count": 82,
     "metadata": {},
     "output_type": "execute_result"
    }
   ],
   "source": [
    "#Rellenar el dataset\n",
    "X = imputer.transform(data_num)\n",
    "data_filled = pd.DataFrame(X, columns=data_num.columns, index = data.index)\n",
    "#comprobar si ahora no es null\n",
    "data_filled.isnull().sum()"
   ]
  },
  {
   "cell_type": "code",
   "execution_count": 83,
   "metadata": {},
   "outputs": [
    {
     "name": "stdout",
     "output_type": "stream",
     "text": [
      "<class 'pandas.core.frame.DataFrame'>\n"
     ]
    }
   ],
   "source": [
    "#los sistemas de ML solo son capaces de trabajar con datos \n",
    "#numericos asi q tranformamos los no numericos en numericos \n",
    "#mediante el uso de OneHotEncoder\n",
    "\n",
    "from sklearn.preprocessing import OneHotEncoder\n",
    "no_num_encoder = OneHotEncoder()\n",
    "data_no_num_encoded = no_num_encoder.fit_transform(data_no_num)\n",
    "data_no_num_encoded_df=pd.DataFrame(data_no_num_encoded.toarray()) \n",
    "print(type(data_no_num_encoded_df))"
   ]
  },
  {
   "cell_type": "code",
   "execution_count": 84,
   "metadata": {},
   "outputs": [
    {
     "data": {
      "text/html": [
       "<div>\n",
       "<style scoped>\n",
       "    .dataframe tbody tr th:only-of-type {\n",
       "        vertical-align: middle;\n",
       "    }\n",
       "\n",
       "    .dataframe tbody tr th {\n",
       "        vertical-align: top;\n",
       "    }\n",
       "\n",
       "    .dataframe thead th {\n",
       "        text-align: right;\n",
       "    }\n",
       "</style>\n",
       "<table border=\"1\" class=\"dataframe\">\n",
       "  <thead>\n",
       "    <tr style=\"text-align: right;\">\n",
       "      <th></th>\n",
       "      <th>longitude</th>\n",
       "      <th>latitude</th>\n",
       "      <th>housing_median_age</th>\n",
       "      <th>total_rooms</th>\n",
       "      <th>total_bedrooms</th>\n",
       "      <th>population</th>\n",
       "      <th>households</th>\n",
       "      <th>median_income</th>\n",
       "    </tr>\n",
       "  </thead>\n",
       "  <tbody>\n",
       "    <tr>\n",
       "      <th>count</th>\n",
       "      <td>1.651200e+04</td>\n",
       "      <td>1.651200e+04</td>\n",
       "      <td>1.651200e+04</td>\n",
       "      <td>1.651200e+04</td>\n",
       "      <td>1.634900e+04</td>\n",
       "      <td>1.651200e+04</td>\n",
       "      <td>1.651200e+04</td>\n",
       "      <td>1.651200e+04</td>\n",
       "    </tr>\n",
       "    <tr>\n",
       "      <th>mean</th>\n",
       "      <td>7.217525e-16</td>\n",
       "      <td>6.491362e-16</td>\n",
       "      <td>1.207583e-16</td>\n",
       "      <td>2.216143e-17</td>\n",
       "      <td>-2.933613e-18</td>\n",
       "      <td>7.627404e-17</td>\n",
       "      <td>4.028862e-17</td>\n",
       "      <td>-6.981926e-17</td>\n",
       "    </tr>\n",
       "    <tr>\n",
       "      <th>std</th>\n",
       "      <td>1.000030e+00</td>\n",
       "      <td>1.000030e+00</td>\n",
       "      <td>1.000030e+00</td>\n",
       "      <td>1.000030e+00</td>\n",
       "      <td>1.000031e+00</td>\n",
       "      <td>1.000030e+00</td>\n",
       "      <td>1.000030e+00</td>\n",
       "      <td>1.000030e+00</td>\n",
       "    </tr>\n",
       "    <tr>\n",
       "      <th>min</th>\n",
       "      <td>-2.381604e+00</td>\n",
       "      <td>-1.445235e+00</td>\n",
       "      <td>-2.201136e+00</td>\n",
       "      <td>-1.214416e+00</td>\n",
       "      <td>-1.278351e+00</td>\n",
       "      <td>-1.256377e+00</td>\n",
       "      <td>-1.310671e+00</td>\n",
       "      <td>-1.764526e+00</td>\n",
       "    </tr>\n",
       "    <tr>\n",
       "      <th>25%</th>\n",
       "      <td>-1.105456e+00</td>\n",
       "      <td>-7.998537e-01</td>\n",
       "      <td>-8.491991e-01</td>\n",
       "      <td>-5.457575e-01</td>\n",
       "      <td>-5.776820e-01</td>\n",
       "      <td>-5.636872e-01</td>\n",
       "      <td>-5.758077e-01</td>\n",
       "      <td>-6.848289e-01</td>\n",
       "    </tr>\n",
       "    <tr>\n",
       "      <th>50%</th>\n",
       "      <td>5.324548e-01</td>\n",
       "      <td>-6.455233e-01</td>\n",
       "      <td>2.558386e-02</td>\n",
       "      <td>-2.329159e-01</td>\n",
       "      <td>-2.440301e-01</td>\n",
       "      <td>-2.270859e-01</td>\n",
       "      <td>-2.333984e-01</td>\n",
       "      <td>-1.765975e-01</td>\n",
       "    </tr>\n",
       "    <tr>\n",
       "      <th>75%</th>\n",
       "      <td>7.819462e-01</td>\n",
       "      <td>9.679302e-01</td>\n",
       "      <td>6.617896e-01</td>\n",
       "      <td>2.338048e-01</td>\n",
       "      <td>2.564478e-01</td>\n",
       "      <td>2.609859e-01</td>\n",
       "      <td>2.723138e-01</td>\n",
       "      <td>4.571083e-01</td>\n",
       "    </tr>\n",
       "    <tr>\n",
       "      <th>max</th>\n",
       "      <td>2.628182e+00</td>\n",
       "      <td>2.950841e+00</td>\n",
       "      <td>1.854675e+00</td>\n",
       "      <td>1.631534e+01</td>\n",
       "      <td>1.407917e+01</td>\n",
       "      <td>3.034782e+01</td>\n",
       "      <td>1.470618e+01</td>\n",
       "      <td>5.825810e+00</td>\n",
       "    </tr>\n",
       "  </tbody>\n",
       "</table>\n",
       "</div>"
      ],
      "text/plain": [
       "          longitude      latitude  housing_median_age   total_rooms  \\\n",
       "count  1.651200e+04  1.651200e+04        1.651200e+04  1.651200e+04   \n",
       "mean   7.217525e-16  6.491362e-16        1.207583e-16  2.216143e-17   \n",
       "std    1.000030e+00  1.000030e+00        1.000030e+00  1.000030e+00   \n",
       "min   -2.381604e+00 -1.445235e+00       -2.201136e+00 -1.214416e+00   \n",
       "25%   -1.105456e+00 -7.998537e-01       -8.491991e-01 -5.457575e-01   \n",
       "50%    5.324548e-01 -6.455233e-01        2.558386e-02 -2.329159e-01   \n",
       "75%    7.819462e-01  9.679302e-01        6.617896e-01  2.338048e-01   \n",
       "max    2.628182e+00  2.950841e+00        1.854675e+00  1.631534e+01   \n",
       "\n",
       "       total_bedrooms    population    households  median_income  \n",
       "count    1.634900e+04  1.651200e+04  1.651200e+04   1.651200e+04  \n",
       "mean    -2.933613e-18  7.627404e-17  4.028862e-17  -6.981926e-17  \n",
       "std      1.000031e+00  1.000030e+00  1.000030e+00   1.000030e+00  \n",
       "min     -1.278351e+00 -1.256377e+00 -1.310671e+00  -1.764526e+00  \n",
       "25%     -5.776820e-01 -5.636872e-01 -5.758077e-01  -6.848289e-01  \n",
       "50%     -2.440301e-01 -2.270859e-01 -2.333984e-01  -1.765975e-01  \n",
       "75%      2.564478e-01  2.609859e-01  2.723138e-01   4.571083e-01  \n",
       "max      1.407917e+01  3.034782e+01  1.470618e+01   5.825810e+00  "
      ]
     },
     "execution_count": 84,
     "metadata": {},
     "output_type": "execute_result"
    }
   ],
   "source": [
    "#ahora normalizamos los datos numericos usando un StandardScaler\n",
    "\n",
    "from sklearn.preprocessing import StandardScaler\n",
    "\n",
    "scaler = StandardScaler()\n",
    "data_num_scaled = scaler.fit_transform(data_num)\n",
    "data_tr = pd.DataFrame(data_num_scaled, columns=data_num.columns, index=data.index)\n",
    "data_tr.describe()\n",
    "\n",
    "\n"
   ]
  },
  {
   "cell_type": "code",
   "execution_count": 96,
   "metadata": {},
   "outputs": [
    {
     "ename": "TypeError",
     "evalue": "'tuple' object is not callable",
     "output_type": "error",
     "traceback": [
      "\u001b[0;31m---------------------------------------------------------------------------\u001b[0m",
      "\u001b[0;31mTypeError\u001b[0m                                 Traceback (most recent call last)",
      "Cell \u001b[0;32mIn[96], line 4\u001b[0m\n\u001b[1;32m      1\u001b[0m \u001b[38;5;66;03m#concatenar info numerica con no numerica\u001b[39;00m\n\u001b[1;32m      3\u001b[0m result \u001b[38;5;241m=\u001b[39m pd\u001b[38;5;241m.\u001b[39mconcat([data_tr, data_no_num_encoded_df], axis \u001b[38;5;241m=\u001b[39m \u001b[38;5;241m1\u001b[39m)\n\u001b[0;32m----> 4\u001b[0m \u001b[43mresult\u001b[49m\u001b[38;5;241;43m.\u001b[39;49m\u001b[43mshape\u001b[49m\u001b[43m(\u001b[49m\u001b[43m)\u001b[49m\n",
      "\u001b[0;31mTypeError\u001b[0m: 'tuple' object is not callable"
     ]
    }
   ],
   "source": [
    "#concatenar info numerica con no numerica\n",
    "\n",
    "result = pd.concat([data_tr, data_no_num_encoded_df], axis = 1)\n",
    "result.shape()"
   ]
  }
 ],
 "metadata": {
  "kernelspec": {
   "display_name": "Python 3",
   "language": "python",
   "name": "python3"
  },
  "language_info": {
   "codemirror_mode": {
    "name": "ipython",
    "version": 3
   },
   "file_extension": ".py",
   "mimetype": "text/x-python",
   "name": "python",
   "nbconvert_exporter": "python",
   "pygments_lexer": "ipython3",
   "version": "3.10.12"
  }
 },
 "nbformat": 4,
 "nbformat_minor": 2
}
