{
 "cells": [
  {
   "cell_type": "markdown",
   "metadata": {},
   "source": [
    "\n",
    "PRICE DETECTOR\n",
    "                                            "
   ]
  },
  {
   "cell_type": "markdown",
   "metadata": {},
   "source": [
    "Get data from csv and store on a dataset"
   ]
  },
  {
   "cell_type": "code",
   "execution_count": 87,
   "metadata": {},
   "outputs": [
    {
     "name": "stdout",
     "output_type": "stream",
     "text": [
      "<class 'pandas.core.frame.DataFrame'>\n",
      "RangeIndex: 20640 entries, 0 to 20639\n",
      "Data columns (total 10 columns):\n",
      " #   Column              Non-Null Count  Dtype  \n",
      "---  ------              --------------  -----  \n",
      " 0   longitude           20640 non-null  float64\n",
      " 1   latitude            20640 non-null  float64\n",
      " 2   housing_median_age  20640 non-null  float64\n",
      " 3   total_rooms         20640 non-null  float64\n",
      " 4   total_bedrooms      20433 non-null  float64\n",
      " 5   population          20640 non-null  float64\n",
      " 6   households          20640 non-null  float64\n",
      " 7   median_income       20640 non-null  float64\n",
      " 8   median_house_value  20640 non-null  float64\n",
      " 9   ocean_proximity     20640 non-null  object \n",
      "dtypes: float64(9), object(1)\n",
      "memory usage: 1.6+ MB\n",
      "Index(['longitude', 'latitude', 'housing_median_age', 'total_rooms',\n",
      "       'total_bedrooms', 'population', 'households', 'median_income',\n",
      "       'median_house_value', 'ocean_proximity'],\n",
      "      dtype='object')\n"
     ]
    }
   ],
   "source": [
    "import pandas as pd\n",
    "df = pd.read_csv('housing.csv')\n",
    "df.info()\n",
    "print(df.columns)"
   ]
  },
  {
   "cell_type": "markdown",
   "metadata": {},
   "source": [
    "We divide the dataset into training dataset (80%) and test dataset (20%)."
   ]
  },
  {
   "cell_type": "code",
   "execution_count": 88,
   "metadata": {},
   "outputs": [],
   "source": [
    "from sklearn.model_selection import train_test_split\n",
    "train, test = train_test_split(df, test_size = 0.2, random_state= 22)\n",
    "\n",
    "train.to_csv(\"housing_train.csv\", index = False)\n",
    "test.to_csv(\"housing_test.csv\", index = False)"
   ]
  },
  {
   "cell_type": "markdown",
   "metadata": {},
   "source": [
    "We divide the information into what is data and what is the target"
   ]
  },
  {
   "cell_type": "code",
   "execution_count": 89,
   "metadata": {},
   "outputs": [
    {
     "data": {
      "text/html": [
       "<div>\n",
       "<style scoped>\n",
       "    .dataframe tbody tr th:only-of-type {\n",
       "        vertical-align: middle;\n",
       "    }\n",
       "\n",
       "    .dataframe tbody tr th {\n",
       "        vertical-align: top;\n",
       "    }\n",
       "\n",
       "    .dataframe thead th {\n",
       "        text-align: right;\n",
       "    }\n",
       "</style>\n",
       "<table border=\"1\" class=\"dataframe\">\n",
       "  <thead>\n",
       "    <tr style=\"text-align: right;\">\n",
       "      <th></th>\n",
       "      <th>longitude</th>\n",
       "      <th>latitude</th>\n",
       "      <th>housing_median_age</th>\n",
       "      <th>total_rooms</th>\n",
       "      <th>total_bedrooms</th>\n",
       "      <th>population</th>\n",
       "      <th>households</th>\n",
       "      <th>median_income</th>\n",
       "      <th>ocean_proximity</th>\n",
       "    </tr>\n",
       "  </thead>\n",
       "  <tbody>\n",
       "    <tr>\n",
       "      <th>0</th>\n",
       "      <td>-119.72</td>\n",
       "      <td>36.76</td>\n",
       "      <td>23.0</td>\n",
       "      <td>6403.0</td>\n",
       "      <td>NaN</td>\n",
       "      <td>3573.0</td>\n",
       "      <td>1260.0</td>\n",
       "      <td>2.3006</td>\n",
       "      <td>INLAND</td>\n",
       "    </tr>\n",
       "    <tr>\n",
       "      <th>1</th>\n",
       "      <td>-120.79</td>\n",
       "      <td>38.70</td>\n",
       "      <td>13.0</td>\n",
       "      <td>5036.0</td>\n",
       "      <td>1034.0</td>\n",
       "      <td>2243.0</td>\n",
       "      <td>923.0</td>\n",
       "      <td>2.3319</td>\n",
       "      <td>INLAND</td>\n",
       "    </tr>\n",
       "    <tr>\n",
       "      <th>2</th>\n",
       "      <td>-118.20</td>\n",
       "      <td>34.04</td>\n",
       "      <td>18.0</td>\n",
       "      <td>796.0</td>\n",
       "      <td>227.0</td>\n",
       "      <td>547.0</td>\n",
       "      <td>218.0</td>\n",
       "      <td>1.0333</td>\n",
       "      <td>&lt;1H OCEAN</td>\n",
       "    </tr>\n",
       "    <tr>\n",
       "      <th>3</th>\n",
       "      <td>-117.34</td>\n",
       "      <td>33.21</td>\n",
       "      <td>12.0</td>\n",
       "      <td>5963.0</td>\n",
       "      <td>1372.0</td>\n",
       "      <td>3015.0</td>\n",
       "      <td>1124.0</td>\n",
       "      <td>2.7386</td>\n",
       "      <td>NEAR OCEAN</td>\n",
       "    </tr>\n",
       "    <tr>\n",
       "      <th>4</th>\n",
       "      <td>-121.46</td>\n",
       "      <td>38.54</td>\n",
       "      <td>48.0</td>\n",
       "      <td>1001.0</td>\n",
       "      <td>205.0</td>\n",
       "      <td>605.0</td>\n",
       "      <td>175.0</td>\n",
       "      <td>1.8333</td>\n",
       "      <td>INLAND</td>\n",
       "    </tr>\n",
       "  </tbody>\n",
       "</table>\n",
       "</div>"
      ],
      "text/plain": [
       "   longitude  latitude  housing_median_age  total_rooms  total_bedrooms  \\\n",
       "0    -119.72     36.76                23.0       6403.0             NaN   \n",
       "1    -120.79     38.70                13.0       5036.0          1034.0   \n",
       "2    -118.20     34.04                18.0        796.0           227.0   \n",
       "3    -117.34     33.21                12.0       5963.0          1372.0   \n",
       "4    -121.46     38.54                48.0       1001.0           205.0   \n",
       "\n",
       "   population  households  median_income ocean_proximity  \n",
       "0      3573.0      1260.0         2.3006          INLAND  \n",
       "1      2243.0       923.0         2.3319          INLAND  \n",
       "2       547.0       218.0         1.0333       <1H OCEAN  \n",
       "3      3015.0      1124.0         2.7386      NEAR OCEAN  \n",
       "4       605.0       175.0         1.8333          INLAND  "
      ]
     },
     "execution_count": 89,
     "metadata": {},
     "output_type": "execute_result"
    }
   ],
   "source": [
    "df_train = pd.read_csv(\"housing_train.csv\")\n",
    "data, target = df_train.drop(['median_house_value'], axis=1), df_train['median_house_value'].copy()\n",
    "data.head()"
   ]
  },
  {
   "cell_type": "markdown",
   "metadata": {},
   "source": [
    "Process data in order to eliminate missing values, transfor non categoric data and then normalize"
   ]
  },
  {
   "cell_type": "markdown",
   "metadata": {},
   "source": [
    "Numerical data"
   ]
  },
  {
   "cell_type": "code",
   "execution_count": 90,
   "metadata": {},
   "outputs": [
    {
     "data": {
      "text/html": [
       "<div>\n",
       "<style scoped>\n",
       "    .dataframe tbody tr th:only-of-type {\n",
       "        vertical-align: middle;\n",
       "    }\n",
       "\n",
       "    .dataframe tbody tr th {\n",
       "        vertical-align: top;\n",
       "    }\n",
       "\n",
       "    .dataframe thead th {\n",
       "        text-align: right;\n",
       "    }\n",
       "</style>\n",
       "<table border=\"1\" class=\"dataframe\">\n",
       "  <thead>\n",
       "    <tr style=\"text-align: right;\">\n",
       "      <th></th>\n",
       "      <th>longitude</th>\n",
       "      <th>latitude</th>\n",
       "      <th>housing_median_age</th>\n",
       "      <th>total_rooms</th>\n",
       "      <th>total_bedrooms</th>\n",
       "      <th>population</th>\n",
       "      <th>households</th>\n",
       "      <th>median_income</th>\n",
       "    </tr>\n",
       "  </thead>\n",
       "  <tbody>\n",
       "    <tr>\n",
       "      <th>0</th>\n",
       "      <td>-119.72</td>\n",
       "      <td>36.76</td>\n",
       "      <td>23.0</td>\n",
       "      <td>6403.0</td>\n",
       "      <td>NaN</td>\n",
       "      <td>3573.0</td>\n",
       "      <td>1260.0</td>\n",
       "      <td>2.3006</td>\n",
       "    </tr>\n",
       "    <tr>\n",
       "      <th>1</th>\n",
       "      <td>-120.79</td>\n",
       "      <td>38.70</td>\n",
       "      <td>13.0</td>\n",
       "      <td>5036.0</td>\n",
       "      <td>1034.0</td>\n",
       "      <td>2243.0</td>\n",
       "      <td>923.0</td>\n",
       "      <td>2.3319</td>\n",
       "    </tr>\n",
       "    <tr>\n",
       "      <th>2</th>\n",
       "      <td>-118.20</td>\n",
       "      <td>34.04</td>\n",
       "      <td>18.0</td>\n",
       "      <td>796.0</td>\n",
       "      <td>227.0</td>\n",
       "      <td>547.0</td>\n",
       "      <td>218.0</td>\n",
       "      <td>1.0333</td>\n",
       "    </tr>\n",
       "    <tr>\n",
       "      <th>3</th>\n",
       "      <td>-117.34</td>\n",
       "      <td>33.21</td>\n",
       "      <td>12.0</td>\n",
       "      <td>5963.0</td>\n",
       "      <td>1372.0</td>\n",
       "      <td>3015.0</td>\n",
       "      <td>1124.0</td>\n",
       "      <td>2.7386</td>\n",
       "    </tr>\n",
       "    <tr>\n",
       "      <th>4</th>\n",
       "      <td>-121.46</td>\n",
       "      <td>38.54</td>\n",
       "      <td>48.0</td>\n",
       "      <td>1001.0</td>\n",
       "      <td>205.0</td>\n",
       "      <td>605.0</td>\n",
       "      <td>175.0</td>\n",
       "      <td>1.8333</td>\n",
       "    </tr>\n",
       "  </tbody>\n",
       "</table>\n",
       "</div>"
      ],
      "text/plain": [
       "   longitude  latitude  housing_median_age  total_rooms  total_bedrooms  \\\n",
       "0    -119.72     36.76                23.0       6403.0             NaN   \n",
       "1    -120.79     38.70                13.0       5036.0          1034.0   \n",
       "2    -118.20     34.04                18.0        796.0           227.0   \n",
       "3    -117.34     33.21                12.0       5963.0          1372.0   \n",
       "4    -121.46     38.54                48.0       1001.0           205.0   \n",
       "\n",
       "   population  households  median_income  \n",
       "0      3573.0      1260.0         2.3006  \n",
       "1      2243.0       923.0         2.3319  \n",
       "2       547.0       218.0         1.0333  \n",
       "3      3015.0      1124.0         2.7386  \n",
       "4       605.0       175.0         1.8333  "
      ]
     },
     "execution_count": 90,
     "metadata": {},
     "output_type": "execute_result"
    }
   ],
   "source": [
    "data_num = data.drop(['ocean_proximity'], axis = 1)\n",
    "data_num.head()"
   ]
  },
  {
   "cell_type": "markdown",
   "metadata": {},
   "source": [
    "Categorical data"
   ]
  },
  {
   "cell_type": "code",
   "execution_count": 91,
   "metadata": {},
   "outputs": [
    {
     "data": {
      "text/html": [
       "<div>\n",
       "<style scoped>\n",
       "    .dataframe tbody tr th:only-of-type {\n",
       "        vertical-align: middle;\n",
       "    }\n",
       "\n",
       "    .dataframe tbody tr th {\n",
       "        vertical-align: top;\n",
       "    }\n",
       "\n",
       "    .dataframe thead th {\n",
       "        text-align: right;\n",
       "    }\n",
       "</style>\n",
       "<table border=\"1\" class=\"dataframe\">\n",
       "  <thead>\n",
       "    <tr style=\"text-align: right;\">\n",
       "      <th></th>\n",
       "      <th>ocean_proximity</th>\n",
       "    </tr>\n",
       "  </thead>\n",
       "  <tbody>\n",
       "    <tr>\n",
       "      <th>0</th>\n",
       "      <td>INLAND</td>\n",
       "    </tr>\n",
       "    <tr>\n",
       "      <th>1</th>\n",
       "      <td>INLAND</td>\n",
       "    </tr>\n",
       "    <tr>\n",
       "      <th>2</th>\n",
       "      <td>&lt;1H OCEAN</td>\n",
       "    </tr>\n",
       "    <tr>\n",
       "      <th>3</th>\n",
       "      <td>NEAR OCEAN</td>\n",
       "    </tr>\n",
       "    <tr>\n",
       "      <th>4</th>\n",
       "      <td>INLAND</td>\n",
       "    </tr>\n",
       "  </tbody>\n",
       "</table>\n",
       "</div>"
      ],
      "text/plain": [
       "  ocean_proximity\n",
       "0          INLAND\n",
       "1          INLAND\n",
       "2       <1H OCEAN\n",
       "3      NEAR OCEAN\n",
       "4          INLAND"
      ]
     },
     "execution_count": 91,
     "metadata": {},
     "output_type": "execute_result"
    }
   ],
   "source": [
    "data_no_num = data[['ocean_proximity']]\n",
    "data_no_num.head()"
   ]
  },
  {
   "cell_type": "markdown",
   "metadata": {},
   "source": [
    "Check missing values in numeric dataset"
   ]
  },
  {
   "cell_type": "code",
   "execution_count": 92,
   "metadata": {},
   "outputs": [
    {
     "data": {
      "text/plain": [
       "longitude               0\n",
       "latitude                0\n",
       "housing_median_age      0\n",
       "total_rooms             0\n",
       "total_bedrooms        163\n",
       "population              0\n",
       "households              0\n",
       "median_income           0\n",
       "dtype: int64"
      ]
     },
     "execution_count": 92,
     "metadata": {},
     "output_type": "execute_result"
    }
   ],
   "source": [
    "data_num.isnull().sum()"
   ]
  },
  {
   "cell_type": "markdown",
   "metadata": {},
   "source": [
    "Check missing values in categorical dataset"
   ]
  },
  {
   "cell_type": "code",
   "execution_count": 93,
   "metadata": {},
   "outputs": [
    {
     "data": {
      "text/plain": [
       "ocean_proximity    0\n",
       "dtype: int64"
      ]
     },
     "execution_count": 93,
     "metadata": {},
     "output_type": "execute_result"
    }
   ],
   "source": [
    "data_no_num.isnull().sum()"
   ]
  },
  {
   "cell_type": "markdown",
   "metadata": {},
   "source": [
    "Fill in the numerical dataset using the median in the missing values."
   ]
  },
  {
   "cell_type": "code",
   "execution_count": 94,
   "metadata": {},
   "outputs": [
    {
     "data": {
      "text/plain": [
       "longitude             0\n",
       "latitude              0\n",
       "housing_median_age    0\n",
       "total_rooms           0\n",
       "total_bedrooms        0\n",
       "population            0\n",
       "households            0\n",
       "median_income         0\n",
       "dtype: int64"
      ]
     },
     "execution_count": 94,
     "metadata": {},
     "output_type": "execute_result"
    }
   ],
   "source": [
    "# Importar la clase SimpleImputer desde sklearn.impute\n",
    "from sklearn.impute import SimpleImputer\n",
    "# Crear una instancia del imputador con la estrategia de imputación \"median\" (mediana)\n",
    "imputer = SimpleImputer(strategy=\"median\")\n",
    "# Ajustar el imputador a los datos numéricos\n",
    "imputer.fit(data_num)\n",
    "# Obtener las estadísticas calculadas por el imputador (en este caso, la mediana de cada columna)\n",
    "imputer.statistics_\n",
    "# Rellenar el conjunto de datos utilizando el imputador\n",
    "X = imputer.transform(data_num)\n",
    "# Crear un nuevo DataFrame con los datos imputados\n",
    "data_num_filled = pd.DataFrame(X, columns=data_num.columns, index=data.index)\n",
    "# Comprobar si hay valores nulos después de la imputación\n",
    "data_num_filled.isnull().sum()\n"
   ]
  },
  {
   "cell_type": "markdown",
   "metadata": {},
   "source": [
    "We normalise the numerical values  \n",
    "\n",
    "\n",
    "![Alt text](image.png)"
   ]
  },
  {
   "cell_type": "code",
   "execution_count": 95,
   "metadata": {},
   "outputs": [
    {
     "data": {
      "text/html": [
       "<div>\n",
       "<style scoped>\n",
       "    .dataframe tbody tr th:only-of-type {\n",
       "        vertical-align: middle;\n",
       "    }\n",
       "\n",
       "    .dataframe tbody tr th {\n",
       "        vertical-align: top;\n",
       "    }\n",
       "\n",
       "    .dataframe thead th {\n",
       "        text-align: right;\n",
       "    }\n",
       "</style>\n",
       "<table border=\"1\" class=\"dataframe\">\n",
       "  <thead>\n",
       "    <tr style=\"text-align: right;\">\n",
       "      <th></th>\n",
       "      <th>longitude</th>\n",
       "      <th>latitude</th>\n",
       "      <th>housing_median_age</th>\n",
       "      <th>total_rooms</th>\n",
       "      <th>total_bedrooms</th>\n",
       "      <th>population</th>\n",
       "      <th>households</th>\n",
       "      <th>median_income</th>\n",
       "    </tr>\n",
       "  </thead>\n",
       "  <tbody>\n",
       "    <tr>\n",
       "      <th>count</th>\n",
       "      <td>1.651200e+04</td>\n",
       "      <td>1.651200e+04</td>\n",
       "      <td>1.651200e+04</td>\n",
       "      <td>1.651200e+04</td>\n",
       "      <td>1.634900e+04</td>\n",
       "      <td>1.651200e+04</td>\n",
       "      <td>1.651200e+04</td>\n",
       "      <td>1.651200e+04</td>\n",
       "    </tr>\n",
       "    <tr>\n",
       "      <th>mean</th>\n",
       "      <td>7.217525e-16</td>\n",
       "      <td>6.491362e-16</td>\n",
       "      <td>1.207583e-16</td>\n",
       "      <td>2.216143e-17</td>\n",
       "      <td>-2.933613e-18</td>\n",
       "      <td>7.627404e-17</td>\n",
       "      <td>4.028862e-17</td>\n",
       "      <td>-6.981926e-17</td>\n",
       "    </tr>\n",
       "    <tr>\n",
       "      <th>std</th>\n",
       "      <td>1.000030e+00</td>\n",
       "      <td>1.000030e+00</td>\n",
       "      <td>1.000030e+00</td>\n",
       "      <td>1.000030e+00</td>\n",
       "      <td>1.000031e+00</td>\n",
       "      <td>1.000030e+00</td>\n",
       "      <td>1.000030e+00</td>\n",
       "      <td>1.000030e+00</td>\n",
       "    </tr>\n",
       "    <tr>\n",
       "      <th>min</th>\n",
       "      <td>-2.381604e+00</td>\n",
       "      <td>-1.445235e+00</td>\n",
       "      <td>-2.201136e+00</td>\n",
       "      <td>-1.214416e+00</td>\n",
       "      <td>-1.278351e+00</td>\n",
       "      <td>-1.256377e+00</td>\n",
       "      <td>-1.310671e+00</td>\n",
       "      <td>-1.764526e+00</td>\n",
       "    </tr>\n",
       "    <tr>\n",
       "      <th>25%</th>\n",
       "      <td>-1.105456e+00</td>\n",
       "      <td>-7.998537e-01</td>\n",
       "      <td>-8.491991e-01</td>\n",
       "      <td>-5.457575e-01</td>\n",
       "      <td>-5.776820e-01</td>\n",
       "      <td>-5.636872e-01</td>\n",
       "      <td>-5.758077e-01</td>\n",
       "      <td>-6.848289e-01</td>\n",
       "    </tr>\n",
       "    <tr>\n",
       "      <th>50%</th>\n",
       "      <td>5.324548e-01</td>\n",
       "      <td>-6.455233e-01</td>\n",
       "      <td>2.558386e-02</td>\n",
       "      <td>-2.329159e-01</td>\n",
       "      <td>-2.440301e-01</td>\n",
       "      <td>-2.270859e-01</td>\n",
       "      <td>-2.333984e-01</td>\n",
       "      <td>-1.765975e-01</td>\n",
       "    </tr>\n",
       "    <tr>\n",
       "      <th>75%</th>\n",
       "      <td>7.819462e-01</td>\n",
       "      <td>9.679302e-01</td>\n",
       "      <td>6.617896e-01</td>\n",
       "      <td>2.338048e-01</td>\n",
       "      <td>2.564478e-01</td>\n",
       "      <td>2.609859e-01</td>\n",
       "      <td>2.723138e-01</td>\n",
       "      <td>4.571083e-01</td>\n",
       "    </tr>\n",
       "    <tr>\n",
       "      <th>max</th>\n",
       "      <td>2.628182e+00</td>\n",
       "      <td>2.950841e+00</td>\n",
       "      <td>1.854675e+00</td>\n",
       "      <td>1.631534e+01</td>\n",
       "      <td>1.407917e+01</td>\n",
       "      <td>3.034782e+01</td>\n",
       "      <td>1.470618e+01</td>\n",
       "      <td>5.825810e+00</td>\n",
       "    </tr>\n",
       "  </tbody>\n",
       "</table>\n",
       "</div>"
      ],
      "text/plain": [
       "          longitude      latitude  housing_median_age   total_rooms  \\\n",
       "count  1.651200e+04  1.651200e+04        1.651200e+04  1.651200e+04   \n",
       "mean   7.217525e-16  6.491362e-16        1.207583e-16  2.216143e-17   \n",
       "std    1.000030e+00  1.000030e+00        1.000030e+00  1.000030e+00   \n",
       "min   -2.381604e+00 -1.445235e+00       -2.201136e+00 -1.214416e+00   \n",
       "25%   -1.105456e+00 -7.998537e-01       -8.491991e-01 -5.457575e-01   \n",
       "50%    5.324548e-01 -6.455233e-01        2.558386e-02 -2.329159e-01   \n",
       "75%    7.819462e-01  9.679302e-01        6.617896e-01  2.338048e-01   \n",
       "max    2.628182e+00  2.950841e+00        1.854675e+00  1.631534e+01   \n",
       "\n",
       "       total_bedrooms    population    households  median_income  \n",
       "count    1.634900e+04  1.651200e+04  1.651200e+04   1.651200e+04  \n",
       "mean    -2.933613e-18  7.627404e-17  4.028862e-17  -6.981926e-17  \n",
       "std      1.000031e+00  1.000030e+00  1.000030e+00   1.000030e+00  \n",
       "min     -1.278351e+00 -1.256377e+00 -1.310671e+00  -1.764526e+00  \n",
       "25%     -5.776820e-01 -5.636872e-01 -5.758077e-01  -6.848289e-01  \n",
       "50%     -2.440301e-01 -2.270859e-01 -2.333984e-01  -1.765975e-01  \n",
       "75%      2.564478e-01  2.609859e-01  2.723138e-01   4.571083e-01  \n",
       "max      1.407917e+01  3.034782e+01  1.470618e+01   5.825810e+00  "
      ]
     },
     "execution_count": 95,
     "metadata": {},
     "output_type": "execute_result"
    }
   ],
   "source": [
    "from sklearn.preprocessing import StandardScaler\n",
    "\n",
    "scaler = StandardScaler()\n",
    "data_num_scaled = scaler.fit_transform(data_num)\n",
    "data_tr = pd.DataFrame(data_num_scaled, columns=data_num.columns, index=data.index)\n",
    "data_tr.describe()"
   ]
  },
  {
   "cell_type": "markdown",
   "metadata": {},
   "source": [
    "We transform non-categorical data into categorical data."
   ]
  },
  {
   "cell_type": "code",
   "execution_count": 96,
   "metadata": {},
   "outputs": [
    {
     "name": "stdout",
     "output_type": "stream",
     "text": [
      "         0    1    2    3    4\n",
      "0      0.0  1.0  0.0  0.0  0.0\n",
      "1      0.0  1.0  0.0  0.0  0.0\n",
      "2      1.0  0.0  0.0  0.0  0.0\n",
      "3      0.0  0.0  0.0  0.0  1.0\n",
      "4      0.0  1.0  0.0  0.0  0.0\n",
      "...    ...  ...  ...  ...  ...\n",
      "16507  0.0  1.0  0.0  0.0  0.0\n",
      "16508  1.0  0.0  0.0  0.0  0.0\n",
      "16509  0.0  0.0  0.0  1.0  0.0\n",
      "16510  0.0  0.0  0.0  0.0  1.0\n",
      "16511  1.0  0.0  0.0  0.0  0.0\n",
      "\n",
      "[16512 rows x 5 columns]\n"
     ]
    }
   ],
   "source": [
    "#los sistemas de ML solo son capaces de trabajar con datos \n",
    "#numericos asi q tranformamos los no numericos en numericos \n",
    "#mediante el uso de OneHotEncoder\n",
    "\n",
    "from sklearn.preprocessing import OneHotEncoder\n",
    "no_num_encoder = OneHotEncoder()\n",
    "data_no_num_encoded = no_num_encoder.fit_transform(data_no_num)\n",
    "data_no_num_encoded_df=pd.DataFrame(data_no_num_encoded.toarray()) \n",
    "print(data_no_num_encoded_df)"
   ]
  },
  {
   "cell_type": "markdown",
   "metadata": {},
   "source": [
    "So far we have already dealt with all the information but we can systematise this process by using PIPELINES."
   ]
  },
  {
   "cell_type": "markdown",
   "metadata": {},
   "source": [
    "PIPELINES"
   ]
  },
  {
   "cell_type": "code",
   "execution_count": 97,
   "metadata": {},
   "outputs": [
    {
     "name": "stdout",
     "output_type": "stream",
     "text": [
      "['longitude', 'latitude', 'housing_median_age', 'total_rooms', 'total_bedrooms', 'population', 'households', 'median_income']\n",
      "['ocean_proximity']\n",
      "5\n",
      "<class 'numpy.ndarray'>\n",
      "(16512, 13)\n"
     ]
    }
   ],
   "source": [
    "from sklearn.pipeline import Pipeline\n",
    "from sklearn.compose import ColumnTransformer\n",
    "\n",
    "# Lista de columnas numéricas\n",
    "num_attributes = list(data_num.columns)\n",
    "print(num_attributes)\n",
    "\n",
    "# Lista de columnas categóricas\n",
    "cat_attributes = [\"ocean_proximity\"]\n",
    "print(cat_attributes)\n",
    "\n",
    "num_pipeline = Pipeline([\n",
    "    ('imputer', SimpleImputer(strategy=\"median\")),\n",
    "    ('scaler', StandardScaler()),    \n",
    "])\n",
    "\n",
    "cat_pipeline = Pipeline([\n",
    "    ('encoder', OneHotEncoder()),  # No es necesario especificar las categorías aquí\n",
    "])\n",
    "\n",
    "full_pipeline = ColumnTransformer([\n",
    "    (\"num\", num_pipeline, num_attributes),\n",
    "    (\"cat\", cat_pipeline, cat_attributes)\n",
    "])\n",
    "\n",
    "data_processed = full_pipeline.fit_transform(data)\n",
    "print(data[\"ocean_proximity\"].nunique())\n",
    "print(type(data[\"ocean_proximity\"].unique()))\n",
    "print(data_processed.shape)\n"
   ]
  },
  {
   "cell_type": "markdown",
   "metadata": {},
   "source": [
    "Models Analysis"
   ]
  },
  {
   "cell_type": "markdown",
   "metadata": {},
   "source": [
    "After analyzing all the models we create a function in order to display the mean and the variation to analyze the acurracy of the model (the lower this values are, the better)"
   ]
  },
  {
   "cell_type": "code",
   "execution_count": 98,
   "metadata": {},
   "outputs": [],
   "source": [
    "def display_score(sc):\n",
    "    print(\"Score:\", sc)\n",
    "    print(\"Mean:\", sc.mean())\n",
    "    print(\"Std deviation:\", sc.std())"
   ]
  },
  {
   "cell_type": "markdown",
   "metadata": {},
   "source": [
    "Linear Regression"
   ]
  },
  {
   "cell_type": "code",
   "execution_count": 99,
   "metadata": {},
   "outputs": [
    {
     "name": "stdout",
     "output_type": "stream",
     "text": [
      "Score: [63881.40814274 67801.24474748 68892.02769623 73245.51486074\n",
      " 72158.31489062 68073.29764778 69378.90586359 70696.31491811\n",
      " 70987.82888895 67167.47146292]\n",
      "Mean: 69228.23291191524\n",
      "Std deviation: 2575.2001334016063\n"
     ]
    }
   ],
   "source": [
    "from sklearn.linear_model import LinearRegression\n",
    "\n",
    "linear_regression = LinearRegression()\n",
    "\n",
    "#Aqui entrenamamos el modelo.\n",
    "linear_regression.fit(data_processed, target)\n",
    "\n",
    "from sklearn.model_selection import cross_val_score\n",
    "import numpy as np\n",
    "\n",
    "#El modelo LR ya ha sido entrenado entonces validamos el ese modelo con la data_processed y el target\n",
    "scores = cross_val_score(linear_regression, data_processed, target, scoring=\"neg_mean_squared_error\", cv=10)\n",
    "score_processed_LR = np.sqrt(-scores)\n",
    "display_score(score_processed_LR)"
   ]
  },
  {
   "cell_type": "markdown",
   "metadata": {},
   "source": [
    "Decision Tree"
   ]
  },
  {
   "cell_type": "code",
   "execution_count": 101,
   "metadata": {},
   "outputs": [
    {
     "name": "stdout",
     "output_type": "stream",
     "text": [
      "Score: [66724.69816394 67587.81730891 69931.61455158 67423.1976853\n",
      " 69321.77404271 69144.15997257 68938.36398462 69689.73903145\n",
      " 71542.74876826 70285.41114822]\n",
      "Mean: 69058.95246575619\n",
      "Std deviation: 1386.0890432795886\n"
     ]
    }
   ],
   "source": [
    "from sklearn.tree import DecisionTreeRegressor\n",
    "\n",
    "tree_regression = DecisionTreeRegressor(random_state=42)\n",
    "\n",
    "#Aqui entrenamamos el modelo.\n",
    "tree_regression.fit(data_processed, target)\n",
    "\n",
    "#El modelo TR ya ha sido entrenado entonces validamos el ese modelo con la data_processed y el target\n",
    "scores = cross_val_score(tree_regression, data_processed, target, scoring=\"neg_mean_squared_error\", cv=10)\n",
    "score_processed_TR = np.sqrt(-scores)\n",
    "display_score(score_processed_TR)"
   ]
  },
  {
   "cell_type": "markdown",
   "metadata": {},
   "source": [
    "Random Forest (Set of Decisions Trees)"
   ]
  },
  {
   "cell_type": "code",
   "execution_count": 102,
   "metadata": {},
   "outputs": [
    {
     "name": "stdout",
     "output_type": "stream",
     "text": [
      "Score: [43352.06931267 48126.36117923 50160.87672358 49244.60911433\n",
      " 49597.7136131  50756.66786053 51089.76080432 52310.79109074\n",
      " 50891.51946603 46605.78724241]\n",
      "Mean: 49213.61564069473\n",
      "Std deviation: 2483.8518439097506\n"
     ]
    }
   ],
   "source": [
    "from sklearn.ensemble import RandomForestRegressor\n",
    "\n",
    "rf_regression = RandomForestRegressor(random_state=42)\n",
    "\n",
    "#Aqui entrenamamos el modelo.\n",
    "rf_regression.fit(data_processed, target)\n",
    "\n",
    "#El modelo LR ya ha sido entrenado entonces validamos el ese modelo con la data_processed y el target\n",
    "scores = cross_val_score(rf_regression, data_processed, target, scoring=\"neg_mean_squared_error\", cv=10)\n",
    "score_processed_RF = np.sqrt(-scores)\n",
    "display_score(score_processed_RF)"
   ]
  },
  {
   "cell_type": "markdown",
   "metadata": {},
   "source": [
    "Graph to visually compare the results"
   ]
  },
  {
   "cell_type": "code",
   "execution_count": 132,
   "metadata": {},
   "outputs": [
    {
     "data": {
      "image/png": "[encoded data removed]",
      "text/plain": [
       "<Figure size 800x500 with 1 Axes>"
      ]
     },
     "metadata": {},
     "output_type": "display_data"
    }
   ],
   "source": [
    "import matplotlib.pyplot as plt\n",
    "import numpy as np\n",
    "\n",
    "list_model = ['LinearRegression', 'Decision Tree', 'Random Forest']\n",
    "list_mean = [69228.23291191524, 69058.95246575619, 49213.61564069473]\n",
    "list_sd = [2575.2001334016063, 1386.0890432795886, 2483.8518439097506]\n",
    "\n",
    "plt.figure(figsize=(8, 5))  # Increased the figure size for better visualization\n",
    "\n",
    "x_values = np.arange(len(list_model))\n",
    "\n",
    "for i in range(len(list_model)):\n",
    "    plt.errorbar(x_values[i], list_mean[i], yerr=list_sd[i], fmt='o', label=list_model[i], linewidth=3)\n",
    "\n",
    "plt.xticks(x_values, list_model)\n",
    "plt.title(\"Models Evaluation\")\n",
    "plt.ylim(40000, 80000)  # Adjusted y-axis limits\n",
    "plt.grid(True, which='major', color='#666666', linestyle='-')\n",
    "plt.minorticks_on()\n",
    "plt.grid(True, which='major', color='#999999', linestyle='-', alpha=0.2)\n",
    "plt.legend()  # Added legend for model labels\n",
    "plt.show()\n"
   ]
  },
  {
   "cell_type": "markdown",
   "metadata": {},
   "source": [
    "After this evaluation we can afirm that the best model to use is Random Forest, now we can adjust its parameters in order to get an even better result"
   ]
  },
  {
   "cell_type": "code",
   "execution_count": 113,
   "metadata": {},
   "outputs": [
    {
     "name": "stdout",
     "output_type": "stream",
     "text": [
      "Random Forest Hyperparameters:\n",
      "bootstrap: True\n",
      "ccp_alpha: 0.0\n",
      "criterion: squared_error\n",
      "max_depth: None\n",
      "max_features: 1.0\n",
      "max_leaf_nodes: None\n",
      "max_samples: None\n",
      "min_impurity_decrease: 0.0\n",
      "min_samples_leaf: 1\n",
      "min_samples_split: 2\n",
      "min_weight_fraction_leaf: 0.0\n",
      "n_estimators: 100\n",
      "n_jobs: None\n",
      "oob_score: False\n",
      "random_state: 42\n",
      "verbose: 0\n",
      "warm_start: False\n"
     ]
    }
   ],
   "source": [
    "# Get the hyperparameters of the trained Random Forest model\n",
    "hyperparameters = rf_regression.get_params()\n",
    "\n",
    "# Print the hyperparameters\n",
    "print(\"Random Forest Hyperparameters:\")\n",
    "for param, value in hyperparameters.items():\n",
    "    print(f\"{param}: {value}\")"
   ]
  },
  {
   "cell_type": "markdown",
   "metadata": {},
   "source": [
    "After this visualization of the parameters we can see that the ones interesting to evaluate are: max_features, n_estimators.\n",
    "    -n_estimators: number of trees in the random forest.\n",
    "    -max_features: number of features each tree can have"
   ]
  },
  {
   "cell_type": "code",
   "execution_count": 124,
   "metadata": {},
   "outputs": [
    {
     "data": {
      "text/plain": [
       "{'max_features': 6, 'n_estimators': 50}"
      ]
     },
     "execution_count": 124,
     "metadata": {},
     "output_type": "execute_result"
    }
   ],
   "source": [
    "from sklearn.model_selection import GridSearchCV\n",
    "\n",
    "param_grid = [\n",
    "    {'n_estimators': [2, 5, 10, 20, 30, 40, 50], 'max_features': [2, 4, 6, 8, 10, 12, 14]},\n",
    "    # then try 6 (2×3) combinations with bootstrap set as False\n",
    "    {'bootstrap': [False], 'n_estimators': [3, 10], 'max_features': [2, 3, 4]},\n",
    "  ]\n",
    "\n",
    "forest_reg = RandomForestRegressor(random_state=42)\n",
    "grid_search = GridSearchCV(forest_reg, param_grid, cv=5, scoring='neg_mean_squared_error', return_train_score=True, n_jobs=-1)\n",
    "grid_search.fit(data_processed, target)\n",
    "\n",
    "grid_search.best_params_"
   ]
  },
  {
   "cell_type": "markdown",
   "metadata": {},
   "source": [
    "Once we already have all the best parameters, we proceed to test the outcomes of the model"
   ]
  },
  {
   "cell_type": "code",
   "execution_count": 125,
   "metadata": {},
   "outputs": [
    {
     "name": "stdout",
     "output_type": "stream",
     "text": [
      "Score: [43192.66741885 48166.07363676 49695.59542259 49378.15848235\n",
      " 49966.06351042 49335.19488981 49671.80023779 51230.96708142\n",
      " 51265.84807253 46059.03261131]\n",
      "Mean: 48796.14013638545\n",
      "Std deviation: 2342.8472836394603\n"
     ]
    }
   ],
   "source": [
    "from sklearn.ensemble import RandomForestRegressor\n",
    "\n",
    "rf_regression = RandomForestRegressor(random_state=42, n_estimators=50, max_features=6)\n",
    "\n",
    "#Aqui entrenamamos el modelo.\n",
    "rf_regression.fit(data_processed, target)\n",
    "\n",
    "#El modelo LR ya ha sido entrenado entonces validamos el ese modelo con la data_processed y el target\n",
    "scores = cross_val_score(rf_regression, data_processed, target, scoring=\"neg_mean_squared_error\", cv=10)\n",
    "score_processed_RF = np.sqrt(-scores)\n",
    "display_score(score_processed_RF)"
   ]
  },
  {
   "cell_type": "markdown",
   "metadata": {},
   "source": [
    "Display of all the results"
   ]
  },
  {
   "cell_type": "code",
   "execution_count": 131,
   "metadata": {},
   "outputs": [
    {
     "data": {
      "image/png": "[encoded data removed]",
      "text/plain": [
       "<Figure size 1000x500 with 1 Axes>"
      ]
     },
     "metadata": {},
     "output_type": "display_data"
    }
   ],
   "source": [
    "list_model = ['LinearRegression', 'Decision Tree', 'Random Forest', 'Random Forest Parametized']\n",
    "list_mean = [69228.23291191524, 69058.95246575619, 49213.61564069473, 48796.14013638545]\n",
    "list_sd = [2575.2001334016063, 1386.0890432795886, 2483.8518439097506, 2342.8472836394603]\n",
    "\n",
    "plt.figure(figsize=(10, 5))  # Increased the figure size for better visualization\n",
    "\n",
    "x_values = np.arange(len(list_model))\n",
    "\n",
    "for i in range(len(list_model)):\n",
    "    plt.errorbar(x_values[i], list_mean[i], yerr=list_sd[i], fmt='o', label=list_model[i], linewidth=3)\n",
    "\n",
    "plt.xticks(x_values, list_model)\n",
    "plt.title(\"Models Evaluation\")\n",
    "plt.ylim(45000, 80000)\n",
    "plt.grid(True, which='major', color='#666666', linestyle='-')\n",
    "plt.minorticks_on()\n",
    "plt.grid(True, which='major', color='#999999', linestyle='-', alpha=0.2)\n",
    "plt.legend()  # Added legend for model labels\n",
    "plt.show()\n"
   ]
  },
  {
   "cell_type": "markdown",
   "metadata": {},
   "source": [
    "Once we have the model that gives us the best result, is moment to test it."
   ]
  },
  {
   "cell_type": "code",
   "execution_count": 135,
   "metadata": {},
   "outputs": [
    {
     "name": "stdout",
     "output_type": "stream",
     "text": [
      "Menor Precio: 14999.0\n",
      "Mayor Precio: 500001.0\n",
      "Root Mean Squared Error: 48050.16049806906\n"
     ]
    }
   ],
   "source": [
    "from sklearn.metrics import mean_squared_error\n",
    "\n",
    "test_data = pd.read_csv('housing_test.csv')\n",
    "\n",
    "final_model = grid_search.best_estimator_\n",
    "\n",
    "data_test = test_data.drop(\"median_house_value\", axis=1)\n",
    "target_test = test_data[\"median_house_value\"].copy()\n",
    "\n",
    "data_test_prepared = full_pipeline.transform(data_test)\n",
    "final_predictions = final_model.predict(data_test_prepared)\n",
    "\n",
    "final_mse = mean_squared_error(target_test, final_predictions)\n",
    "final_rmse = np.sqrt(final_mse)\n",
    "\n",
    "min_price = target_test.min()\n",
    "max_price = target_test.max()\n",
    "\n",
    "print(\"Menor Precio:\", min_price)\n",
    "print(\"Mayor Precio:\", max_price)\n",
    "print(\"Root Mean Squared Error:\" ,final_rmse  )"
   ]
  },
  {
   "cell_type": "markdown",
   "metadata": {},
   "source": [
    "The price of the houses oscilate between 15000 and 500000 and our RMSE is of aroung 48050, so we can conclude that this model has a error of the 9,6%"
   ]
  },
  {
   "cell_type": "code",
   "execution_count": 136,
   "metadata": {},
   "outputs": [],
   "source": [
    "# #Prueba todos los modelos\n",
    "\n",
    "# from sklearn.utils import all_estimators\n",
    "# from sklearn.model_selection import cross_val_score\n",
    "# from sklearn.metrics import mean_squared_error\n",
    "# import numpy as np\n",
    "\n",
    "# # Obtener todos los modelos de regresión disponibles en Scikit-Learn\n",
    "# regression_models = [name for name, _ in all_estimators(type_filter='regressor')]\n",
    "\n",
    "# for model_name in regression_models:\n",
    "#     try:\n",
    "#         # Instanciar el modelo\n",
    "#         model = all_estimators(type_filter='regressor', include_aliases=True)[model_name]()[0]\n",
    "        \n",
    "#         # Evaluación con validación cruzada (reemplazar con tus propios datos)\n",
    "#         scores = cross_val_score(model, X_train, y_train, scoring='neg_mean_squared_error', cv=5)\n",
    "        \n",
    "#         # Calcular la raíz del error cuadrático medio (RMSE) promedio\n",
    "#         rmse = np.sqrt(-scores)\n",
    "        \n",
    "#         # Imprimir los resultados para cada modelo\n",
    "#         print(f\"Model: {model_name}\")\n",
    "#         print(f\"Mean RMSE: {rmse.mean()}\")\n",
    "#         print(f\"Std RMSE: {rmse.std()}\")\n",
    "#         print(\"--------------\")\n",
    "#     except Exception as e:\n",
    "#         print(f\"Error with {model_name}: {e}\")\n"
   ]
  },
  {
   "cell_type": "code",
   "execution_count": null,
   "metadata": {},
   "outputs": [],
   "source": []
  },
  {
   "cell_type": "code",
   "execution_count": null,
   "metadata": {},
   "outputs": [],
   "source": []
  }
 ],
 "metadata": {
  "kernelspec": {
   "display_name": "venv",
   "language": "python",
   "name": "python3"
  },
  "language_info": {
   "codemirror_mode": {
    "name": "ipython",
    "version": 3
   },
   "file_extension": ".py",
   "mimetype": "text/x-python",
   "name": "python",
   "nbconvert_exporter": "python",
   "pygments_lexer": "ipython3",
   "version": "3.10.12"
  }
 },
 "nbformat": 4,
 "nbformat_minor": 2
}
